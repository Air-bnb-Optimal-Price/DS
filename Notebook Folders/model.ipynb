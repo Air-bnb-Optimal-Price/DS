{
 "cells": [
  {
   "cell_type": "code",
   "execution_count": 1,
   "metadata": {},
   "outputs": [],
   "source": [
    "import pandas as pd"
   ]
  },
  {
   "cell_type": "code",
   "execution_count": 2,
   "metadata": {},
   "outputs": [],
   "source": [
    "airbnb = pd.read_csv(\"data/Air_bnb_revised.csv\")"
   ]
  },
  {
   "cell_type": "code",
   "execution_count": 3,
   "metadata": {},
   "outputs": [
    {
     "data": {
      "text/plain": [
       "Unnamed: 0                     0\n",
       "summary                        0\n",
       "beds                           0\n",
       "price                          0\n",
       "minimum_nights                 0\n",
       "latitude                       0\n",
       "longitude                      0\n",
       "accommodates                   0\n",
       "bathrooms                      0\n",
       "bedrooms                       0\n",
       "price_cleaned                  0\n",
       "extra_people_cleaned           0\n",
       "cleaning_fee_filled            0\n",
       "security_deposit_filled        0\n",
       "superhost                      0\n",
       "property_type_cleaned          0\n",
       "room_type_cleaned              0\n",
       "cancellation_policy_cleaned    0\n",
       "dtype: int64"
      ]
     },
     "execution_count": 3,
     "metadata": {},
     "output_type": "execute_result"
    }
   ],
   "source": [
    "airbnb.isnull().sum()"
   ]
  },
  {
   "cell_type": "code",
   "execution_count": 4,
   "metadata": {},
   "outputs": [
    {
     "data": {
      "text/plain": [
       "dtype('O')"
      ]
     },
     "execution_count": 4,
     "metadata": {},
     "output_type": "execute_result"
    }
   ],
   "source": [
    "airbnb.price.dtypes"
   ]
  },
  {
   "cell_type": "code",
   "execution_count": 5,
   "metadata": {},
   "outputs": [],
   "source": [
    "#convert price to float \n",
    "airbnb['price'] = airbnb['price'].replace('[\\$,]', '', regex=True).astype(float)"
   ]
  },
  {
   "cell_type": "code",
   "execution_count": 6,
   "metadata": {},
   "outputs": [
    {
     "data": {
      "text/plain": [
       "0"
      ]
     },
     "execution_count": 6,
     "metadata": {},
     "output_type": "execute_result"
    }
   ],
   "source": [
    "airbnb.price.isnull().sum()"
   ]
  },
  {
   "cell_type": "code",
   "execution_count": 7,
   "metadata": {},
   "outputs": [
    {
     "data": {
      "text/plain": [
       "dtype('float64')"
      ]
     },
     "execution_count": 7,
     "metadata": {},
     "output_type": "execute_result"
    }
   ],
   "source": [
    "airbnb.price.dtypes"
   ]
  },
  {
   "cell_type": "code",
   "execution_count": 8,
   "metadata": {},
   "outputs": [
    {
     "data": {
      "text/html": [
       "<div>\n",
       "<style scoped>\n",
       "    .dataframe tbody tr th:only-of-type {\n",
       "        vertical-align: middle;\n",
       "    }\n",
       "\n",
       "    .dataframe tbody tr th {\n",
       "        vertical-align: top;\n",
       "    }\n",
       "\n",
       "    .dataframe thead th {\n",
       "        text-align: right;\n",
       "    }\n",
       "</style>\n",
       "<table border=\"1\" class=\"dataframe\">\n",
       "  <thead>\n",
       "    <tr style=\"text-align: right;\">\n",
       "      <th></th>\n",
       "      <th>Unnamed: 0</th>\n",
       "      <th>summary</th>\n",
       "      <th>beds</th>\n",
       "      <th>price</th>\n",
       "      <th>minimum_nights</th>\n",
       "      <th>latitude</th>\n",
       "      <th>longitude</th>\n",
       "      <th>accommodates</th>\n",
       "      <th>bathrooms</th>\n",
       "      <th>bedrooms</th>\n",
       "      <th>price_cleaned</th>\n",
       "      <th>extra_people_cleaned</th>\n",
       "      <th>cleaning_fee_filled</th>\n",
       "      <th>security_deposit_filled</th>\n",
       "      <th>superhost</th>\n",
       "      <th>property_type_cleaned</th>\n",
       "      <th>room_type_cleaned</th>\n",
       "      <th>cancellation_policy_cleaned</th>\n",
       "    </tr>\n",
       "  </thead>\n",
       "  <tbody>\n",
       "    <tr>\n",
       "      <th>0</th>\n",
       "      <td>0</td>\n",
       "      <td>Great location!  30 of 75 sq meters. This wood...</td>\n",
       "      <td>2</td>\n",
       "      <td>60.0</td>\n",
       "      <td>4</td>\n",
       "      <td>52.534537</td>\n",
       "      <td>13.402557</td>\n",
       "      <td>3</td>\n",
       "      <td>1.0</td>\n",
       "      <td>1</td>\n",
       "      <td>60.0</td>\n",
       "      <td>28.0</td>\n",
       "      <td>30.0</td>\n",
       "      <td>200.0</td>\n",
       "      <td>True</td>\n",
       "      <td>0</td>\n",
       "      <td>0</td>\n",
       "      <td>0</td>\n",
       "    </tr>\n",
       "    <tr>\n",
       "      <th>1</th>\n",
       "      <td>2</td>\n",
       "      <td>This beautiful first floor apartment  is situa...</td>\n",
       "      <td>2</td>\n",
       "      <td>90.0</td>\n",
       "      <td>62</td>\n",
       "      <td>52.534996</td>\n",
       "      <td>13.417579</td>\n",
       "      <td>4</td>\n",
       "      <td>1.0</td>\n",
       "      <td>1</td>\n",
       "      <td>90.0</td>\n",
       "      <td>20.0</td>\n",
       "      <td>50.0</td>\n",
       "      <td>200.0</td>\n",
       "      <td>False</td>\n",
       "      <td>1</td>\n",
       "      <td>0</td>\n",
       "      <td>0</td>\n",
       "    </tr>\n",
       "    <tr>\n",
       "      <th>2</th>\n",
       "      <td>3</td>\n",
       "      <td>First of all: I prefer short-notice bookings. ...</td>\n",
       "      <td>1</td>\n",
       "      <td>26.0</td>\n",
       "      <td>5</td>\n",
       "      <td>52.498855</td>\n",
       "      <td>13.349065</td>\n",
       "      <td>2</td>\n",
       "      <td>1.0</td>\n",
       "      <td>1</td>\n",
       "      <td>26.0</td>\n",
       "      <td>18.0</td>\n",
       "      <td>30.0</td>\n",
       "      <td>250.0</td>\n",
       "      <td>False</td>\n",
       "      <td>1</td>\n",
       "      <td>1</td>\n",
       "      <td>0</td>\n",
       "    </tr>\n",
       "    <tr>\n",
       "      <th>3</th>\n",
       "      <td>4</td>\n",
       "      <td>Cozy and large room in the beautiful district ...</td>\n",
       "      <td>2</td>\n",
       "      <td>42.0</td>\n",
       "      <td>2</td>\n",
       "      <td>52.543157</td>\n",
       "      <td>13.415091</td>\n",
       "      <td>2</td>\n",
       "      <td>1.0</td>\n",
       "      <td>1</td>\n",
       "      <td>42.0</td>\n",
       "      <td>24.0</td>\n",
       "      <td>0.0</td>\n",
       "      <td>0.0</td>\n",
       "      <td>True</td>\n",
       "      <td>1</td>\n",
       "      <td>1</td>\n",
       "      <td>2</td>\n",
       "    </tr>\n",
       "    <tr>\n",
       "      <th>4</th>\n",
       "      <td>5</td>\n",
       "      <td>4 bedroom with very large windows and outstand...</td>\n",
       "      <td>7</td>\n",
       "      <td>180.0</td>\n",
       "      <td>6</td>\n",
       "      <td>52.533031</td>\n",
       "      <td>13.416047</td>\n",
       "      <td>7</td>\n",
       "      <td>2.5</td>\n",
       "      <td>4</td>\n",
       "      <td>180.0</td>\n",
       "      <td>10.0</td>\n",
       "      <td>80.0</td>\n",
       "      <td>400.0</td>\n",
       "      <td>False</td>\n",
       "      <td>1</td>\n",
       "      <td>0</td>\n",
       "      <td>0</td>\n",
       "    </tr>\n",
       "  </tbody>\n",
       "</table>\n",
       "</div>"
      ],
      "text/plain": [
       "   Unnamed: 0                                            summary  beds  price  \\\n",
       "0           0  Great location!  30 of 75 sq meters. This wood...     2   60.0   \n",
       "1           2  This beautiful first floor apartment  is situa...     2   90.0   \n",
       "2           3  First of all: I prefer short-notice bookings. ...     1   26.0   \n",
       "3           4  Cozy and large room in the beautiful district ...     2   42.0   \n",
       "4           5  4 bedroom with very large windows and outstand...     7  180.0   \n",
       "\n",
       "   minimum_nights   latitude  longitude  accommodates  bathrooms  bedrooms  \\\n",
       "0               4  52.534537  13.402557             3        1.0         1   \n",
       "1              62  52.534996  13.417579             4        1.0         1   \n",
       "2               5  52.498855  13.349065             2        1.0         1   \n",
       "3               2  52.543157  13.415091             2        1.0         1   \n",
       "4               6  52.533031  13.416047             7        2.5         4   \n",
       "\n",
       "   price_cleaned  extra_people_cleaned  cleaning_fee_filled  \\\n",
       "0           60.0                  28.0                 30.0   \n",
       "1           90.0                  20.0                 50.0   \n",
       "2           26.0                  18.0                 30.0   \n",
       "3           42.0                  24.0                  0.0   \n",
       "4          180.0                  10.0                 80.0   \n",
       "\n",
       "   security_deposit_filled  superhost  property_type_cleaned  \\\n",
       "0                    200.0       True                      0   \n",
       "1                    200.0      False                      1   \n",
       "2                    250.0      False                      1   \n",
       "3                      0.0       True                      1   \n",
       "4                    400.0      False                      1   \n",
       "\n",
       "   room_type_cleaned  cancellation_policy_cleaned  \n",
       "0                  0                            0  \n",
       "1                  0                            0  \n",
       "2                  1                            0  \n",
       "3                  1                            2  \n",
       "4                  0                            0  "
      ]
     },
     "execution_count": 8,
     "metadata": {},
     "output_type": "execute_result"
    }
   ],
   "source": [
    "airbnb.head()"
   ]
  },
  {
   "cell_type": "code",
   "execution_count": 9,
   "metadata": {},
   "outputs": [],
   "source": [
    "#for now drop summary, implement NLP later \n",
    "airbnb = airbnb.drop([\"summary\"], axis=1)"
   ]
  },
  {
   "cell_type": "code",
   "execution_count": 10,
   "metadata": {},
   "outputs": [
    {
     "data": {
      "text/html": [
       "<div>\n",
       "<style scoped>\n",
       "    .dataframe tbody tr th:only-of-type {\n",
       "        vertical-align: middle;\n",
       "    }\n",
       "\n",
       "    .dataframe tbody tr th {\n",
       "        vertical-align: top;\n",
       "    }\n",
       "\n",
       "    .dataframe thead th {\n",
       "        text-align: right;\n",
       "    }\n",
       "</style>\n",
       "<table border=\"1\" class=\"dataframe\">\n",
       "  <thead>\n",
       "    <tr style=\"text-align: right;\">\n",
       "      <th></th>\n",
       "      <th>Unnamed: 0</th>\n",
       "      <th>beds</th>\n",
       "      <th>price</th>\n",
       "      <th>minimum_nights</th>\n",
       "      <th>latitude</th>\n",
       "      <th>longitude</th>\n",
       "      <th>accommodates</th>\n",
       "      <th>bathrooms</th>\n",
       "      <th>bedrooms</th>\n",
       "      <th>price_cleaned</th>\n",
       "      <th>extra_people_cleaned</th>\n",
       "      <th>cleaning_fee_filled</th>\n",
       "      <th>security_deposit_filled</th>\n",
       "      <th>superhost</th>\n",
       "      <th>property_type_cleaned</th>\n",
       "      <th>room_type_cleaned</th>\n",
       "      <th>cancellation_policy_cleaned</th>\n",
       "    </tr>\n",
       "  </thead>\n",
       "  <tbody>\n",
       "    <tr>\n",
       "      <th>0</th>\n",
       "      <td>0</td>\n",
       "      <td>2</td>\n",
       "      <td>60.0</td>\n",
       "      <td>4</td>\n",
       "      <td>52.534537</td>\n",
       "      <td>13.402557</td>\n",
       "      <td>3</td>\n",
       "      <td>1.0</td>\n",
       "      <td>1</td>\n",
       "      <td>60.0</td>\n",
       "      <td>28.0</td>\n",
       "      <td>30.0</td>\n",
       "      <td>200.0</td>\n",
       "      <td>True</td>\n",
       "      <td>0</td>\n",
       "      <td>0</td>\n",
       "      <td>0</td>\n",
       "    </tr>\n",
       "    <tr>\n",
       "      <th>1</th>\n",
       "      <td>2</td>\n",
       "      <td>2</td>\n",
       "      <td>90.0</td>\n",
       "      <td>62</td>\n",
       "      <td>52.534996</td>\n",
       "      <td>13.417579</td>\n",
       "      <td>4</td>\n",
       "      <td>1.0</td>\n",
       "      <td>1</td>\n",
       "      <td>90.0</td>\n",
       "      <td>20.0</td>\n",
       "      <td>50.0</td>\n",
       "      <td>200.0</td>\n",
       "      <td>False</td>\n",
       "      <td>1</td>\n",
       "      <td>0</td>\n",
       "      <td>0</td>\n",
       "    </tr>\n",
       "    <tr>\n",
       "      <th>2</th>\n",
       "      <td>3</td>\n",
       "      <td>1</td>\n",
       "      <td>26.0</td>\n",
       "      <td>5</td>\n",
       "      <td>52.498855</td>\n",
       "      <td>13.349065</td>\n",
       "      <td>2</td>\n",
       "      <td>1.0</td>\n",
       "      <td>1</td>\n",
       "      <td>26.0</td>\n",
       "      <td>18.0</td>\n",
       "      <td>30.0</td>\n",
       "      <td>250.0</td>\n",
       "      <td>False</td>\n",
       "      <td>1</td>\n",
       "      <td>1</td>\n",
       "      <td>0</td>\n",
       "    </tr>\n",
       "    <tr>\n",
       "      <th>3</th>\n",
       "      <td>4</td>\n",
       "      <td>2</td>\n",
       "      <td>42.0</td>\n",
       "      <td>2</td>\n",
       "      <td>52.543157</td>\n",
       "      <td>13.415091</td>\n",
       "      <td>2</td>\n",
       "      <td>1.0</td>\n",
       "      <td>1</td>\n",
       "      <td>42.0</td>\n",
       "      <td>24.0</td>\n",
       "      <td>0.0</td>\n",
       "      <td>0.0</td>\n",
       "      <td>True</td>\n",
       "      <td>1</td>\n",
       "      <td>1</td>\n",
       "      <td>2</td>\n",
       "    </tr>\n",
       "    <tr>\n",
       "      <th>4</th>\n",
       "      <td>5</td>\n",
       "      <td>7</td>\n",
       "      <td>180.0</td>\n",
       "      <td>6</td>\n",
       "      <td>52.533031</td>\n",
       "      <td>13.416047</td>\n",
       "      <td>7</td>\n",
       "      <td>2.5</td>\n",
       "      <td>4</td>\n",
       "      <td>180.0</td>\n",
       "      <td>10.0</td>\n",
       "      <td>80.0</td>\n",
       "      <td>400.0</td>\n",
       "      <td>False</td>\n",
       "      <td>1</td>\n",
       "      <td>0</td>\n",
       "      <td>0</td>\n",
       "    </tr>\n",
       "  </tbody>\n",
       "</table>\n",
       "</div>"
      ],
      "text/plain": [
       "   Unnamed: 0  beds  price  minimum_nights   latitude  longitude  \\\n",
       "0           0     2   60.0               4  52.534537  13.402557   \n",
       "1           2     2   90.0              62  52.534996  13.417579   \n",
       "2           3     1   26.0               5  52.498855  13.349065   \n",
       "3           4     2   42.0               2  52.543157  13.415091   \n",
       "4           5     7  180.0               6  52.533031  13.416047   \n",
       "\n",
       "   accommodates  bathrooms  bedrooms  price_cleaned  extra_people_cleaned  \\\n",
       "0             3        1.0         1           60.0                  28.0   \n",
       "1             4        1.0         1           90.0                  20.0   \n",
       "2             2        1.0         1           26.0                  18.0   \n",
       "3             2        1.0         1           42.0                  24.0   \n",
       "4             7        2.5         4          180.0                  10.0   \n",
       "\n",
       "   cleaning_fee_filled  security_deposit_filled  superhost  \\\n",
       "0                 30.0                    200.0       True   \n",
       "1                 50.0                    200.0      False   \n",
       "2                 30.0                    250.0      False   \n",
       "3                  0.0                      0.0       True   \n",
       "4                 80.0                    400.0      False   \n",
       "\n",
       "   property_type_cleaned  room_type_cleaned  cancellation_policy_cleaned  \n",
       "0                      0                  0                            0  \n",
       "1                      1                  0                            0  \n",
       "2                      1                  1                            0  \n",
       "3                      1                  1                            2  \n",
       "4                      1                  0                            0  "
      ]
     },
     "execution_count": 10,
     "metadata": {},
     "output_type": "execute_result"
    }
   ],
   "source": [
    "airbnb.head()"
   ]
  },
  {
   "cell_type": "code",
   "execution_count": 11,
   "metadata": {},
   "outputs": [],
   "source": [
    "#train test split\n",
    "#split data test and train\n",
    "from sklearn.model_selection import train_test_split\n",
    "\n",
    "X = airbnb.drop([\"price\"],axis=1)\n",
    "y = airbnb[\"price\"]\n",
    "\n",
    "X_train, X_test, y_train, y_test = train_test_split(X, y, test_size=0.10,random_state=42)"
   ]
  },
  {
   "cell_type": "code",
   "execution_count": 12,
   "metadata": {},
   "outputs": [
    {
     "name": "stderr",
     "output_type": "stream",
     "text": [
      "/Users/isaaclopez/anaconda3/envs/U4-S1-NLP/lib/python3.7/site-packages/sklearn/preprocessing/data.py:323: DataConversionWarning: Data with input dtype bool, int64, float64 were all converted to float64 by MinMaxScaler.\n",
      "  return self.partial_fit(X, y)\n"
     ]
    }
   ],
   "source": [
    "# normalize data\n",
    "from sklearn.preprocessing import MinMaxScaler\n",
    "sc = MinMaxScaler(feature_range=(0, 1))\n",
    "X_train = sc.fit_transform(X_train)\n",
    "X_test  = sc.transform(X_test)"
   ]
  },
  {
   "cell_type": "code",
   "execution_count": 13,
   "metadata": {},
   "outputs": [
    {
     "name": "stderr",
     "output_type": "stream",
     "text": [
      "Using TensorFlow backend.\n"
     ]
    }
   ],
   "source": [
    "#nn import statement \n",
    "from keras.models import Sequential\n",
    "from keras.layers import Dense, Dropout\n",
    "from keras.metrics import mean_squared_error\n",
    "from keras.optimizers import Adam"
   ]
  },
  {
   "cell_type": "code",
   "execution_count": 14,
   "metadata": {},
   "outputs": [],
   "source": [
    "#set parameters\n",
    "batch_size = 32\n",
    "epochs = 25"
   ]
  },
  {
   "cell_type": "code",
   "execution_count": 15,
   "metadata": {},
   "outputs": [],
   "source": [
    "#import model and layers \n",
    "from tensorflow.keras.models import Sequential\n",
    "from tensorflow.keras.layers import Dense"
   ]
  },
  {
   "cell_type": "code",
   "execution_count": 16,
   "metadata": {},
   "outputs": [
    {
     "data": {
      "text/plain": [
       "(10612, 16)"
      ]
     },
     "execution_count": 16,
     "metadata": {},
     "output_type": "execute_result"
    }
   ],
   "source": [
    "X_train.shape"
   ]
  },
  {
   "cell_type": "code",
   "execution_count": 17,
   "metadata": {},
   "outputs": [
    {
     "name": "stdout",
     "output_type": "stream",
     "text": [
      "Model: \"sequential\"\n",
      "_________________________________________________________________\n",
      "Layer (type)                 Output Shape              Param #   \n",
      "=================================================================\n",
      "dense (Dense)                (None, 6)                 102       \n",
      "_________________________________________________________________\n",
      "dense_1 (Dense)              (None, 6)                 42        \n",
      "_________________________________________________________________\n",
      "dense_2 (Dense)              (None, 6)                 42        \n",
      "_________________________________________________________________\n",
      "dense_3 (Dense)              (None, 1)                 7         \n",
      "=================================================================\n",
      "Total params: 193\n",
      "Trainable params: 193\n",
      "Non-trainable params: 0\n",
      "_________________________________________________________________\n"
     ]
    }
   ],
   "source": [
    "model = Sequential()\n",
    "\n",
    "model.add(Dense(6, input_dim=16, activation='relu'))\n",
    "\n",
    "model.add(Dense(6, activation='relu'))\n",
    "\n",
    "model.add(Dense(6, activation='relu'))\n",
    "\n",
    "model.add(Dense(1, activation='relu'))\n",
    "\n",
    "model.compile(loss='mean_squared_error',\n",
    "                  optimizer='adam',\n",
    "                  metrics=['mse','mae'])\n",
    "\n",
    "model.summary()"
   ]
  },
  {
   "cell_type": "code",
   "execution_count": 18,
   "metadata": {},
   "outputs": [
    {
     "name": "stdout",
     "output_type": "stream",
     "text": [
      "Train on 10612 samples\n",
      "Epoch 1/50\n",
      "10612/10612 [==============================] - 0s 45us/sample - loss: 14163.0333 - mse: 14163.0361 - mae: 55.2128\n",
      "Epoch 2/50\n",
      "10612/10612 [==============================] - 0s 21us/sample - loss: 10795.5123 - mse: 10795.5137 - mae: 32.1509\n",
      "Epoch 3/50\n",
      "10612/10612 [==============================] - 0s 21us/sample - loss: 10531.4708 - mse: 10531.4678 - mae: 30.5623\n",
      "Epoch 4/50\n",
      "10612/10612 [==============================] - 0s 21us/sample - loss: 10322.8152 - mse: 10322.8213 - mae: 29.0950\n",
      "Epoch 5/50\n",
      "10612/10612 [==============================] - 0s 21us/sample - loss: 10132.4763 - mse: 10132.4727 - mae: 27.2046\n",
      "Epoch 6/50\n",
      "10612/10612 [==============================] - 0s 22us/sample - loss: 9962.4735 - mse: 9962.4717 - mae: 25.6393\n",
      "Epoch 7/50\n",
      "10612/10612 [==============================] - 0s 22us/sample - loss: 9819.9390 - mse: 9819.9414 - mae: 24.6476\n",
      "Epoch 8/50\n",
      "10612/10612 [==============================] - 0s 21us/sample - loss: 9720.7405 - mse: 9720.7402 - mae: 24.1045\n",
      "Epoch 9/50\n",
      "10612/10612 [==============================] - 0s 21us/sample - loss: 9658.5255 - mse: 9658.5205 - mae: 24.4068\n",
      "Epoch 10/50\n",
      "10612/10612 [==============================] - 0s 22us/sample - loss: 9600.5887 - mse: 9600.5869 - mae: 24.0175\n",
      "Epoch 11/50\n",
      "10612/10612 [==============================] - 0s 22us/sample - loss: 9553.3324 - mse: 9553.3291 - mae: 23.9312\n",
      "Epoch 12/50\n",
      "10612/10612 [==============================] - 0s 22us/sample - loss: 9503.9623 - mse: 9503.9688 - mae: 23.7792\n",
      "Epoch 13/50\n",
      "10612/10612 [==============================] - 0s 22us/sample - loss: 9463.7759 - mse: 9463.7764 - mae: 23.5897\n",
      "Epoch 14/50\n",
      "10612/10612 [==============================] - 0s 21us/sample - loss: 9427.9589 - mse: 9427.9590 - mae: 23.6620\n",
      "Epoch 15/50\n",
      "10612/10612 [==============================] - 0s 21us/sample - loss: 9382.0057 - mse: 9382.0088 - mae: 23.3782\n",
      "Epoch 16/50\n",
      "10612/10612 [==============================] - 0s 21us/sample - loss: 9351.8865 - mse: 9351.8887 - mae: 23.5625\n",
      "Epoch 17/50\n",
      "10612/10612 [==============================] - 0s 21us/sample - loss: 9317.0937 - mse: 9317.0928 - mae: 23.3699\n",
      "Epoch 18/50\n",
      "10612/10612 [==============================] - 0s 21us/sample - loss: 9298.0291 - mse: 9298.0293 - mae: 23.3631\n",
      "Epoch 19/50\n",
      "10612/10612 [==============================] - 0s 21us/sample - loss: 9259.5551 - mse: 9259.5537 - mae: 23.4660\n",
      "Epoch 20/50\n",
      "10612/10612 [==============================] - 0s 21us/sample - loss: 9240.6743 - mse: 9240.6729 - mae: 23.2181\n",
      "Epoch 21/50\n",
      "10612/10612 [==============================] - 0s 22us/sample - loss: 9216.1627 - mse: 9216.1641 - mae: 23.4216\n",
      "Epoch 22/50\n",
      "10612/10612 [==============================] - 0s 22us/sample - loss: 9194.7235 - mse: 9194.7266 - mae: 23.4109\n",
      "Epoch 23/50\n",
      "10612/10612 [==============================] - 0s 21us/sample - loss: 9174.2185 - mse: 9174.2129 - mae: 23.5213\n",
      "Epoch 24/50\n",
      "10612/10612 [==============================] - 0s 22us/sample - loss: 9154.2733 - mse: 9154.2715 - mae: 23.4068\n",
      "Epoch 25/50\n",
      "10612/10612 [==============================] - 0s 22us/sample - loss: 9132.1690 - mse: 9132.1699 - mae: 23.4105\n",
      "Epoch 26/50\n",
      "10612/10612 [==============================] - 0s 21us/sample - loss: 9110.0319 - mse: 9110.0283 - mae: 23.4331\n",
      "Epoch 27/50\n",
      "10612/10612 [==============================] - 0s 21us/sample - loss: 9081.4368 - mse: 9081.4424 - mae: 23.5514\n",
      "Epoch 28/50\n",
      "10612/10612 [==============================] - 0s 21us/sample - loss: 9067.6073 - mse: 9067.6055 - mae: 23.4192\n",
      "Epoch 29/50\n",
      "10612/10612 [==============================] - 0s 22us/sample - loss: 9044.8303 - mse: 9044.8311 - mae: 23.4728\n",
      "Epoch 30/50\n",
      "10612/10612 [==============================] - 0s 22us/sample - loss: 9019.5669 - mse: 9019.5674 - mae: 23.6183\n",
      "Epoch 31/50\n",
      "10612/10612 [==============================] - 0s 22us/sample - loss: 9001.3289 - mse: 9001.3320 - mae: 23.5713\n",
      "Epoch 32/50\n",
      "10612/10612 [==============================] - 0s 21us/sample - loss: 8985.6970 - mse: 8985.6992 - mae: 23.4366\n",
      "Epoch 33/50\n",
      "10612/10612 [==============================] - 0s 21us/sample - loss: 8958.1665 - mse: 8958.1670 - mae: 23.5045\n",
      "Epoch 34/50\n",
      "10612/10612 [==============================] - 0s 21us/sample - loss: 8938.2250 - mse: 8938.2266 - mae: 23.5967\n",
      "Epoch 35/50\n",
      "10612/10612 [==============================] - 0s 22us/sample - loss: 8923.7094 - mse: 8923.7100 - mae: 23.6935\n",
      "Epoch 36/50\n",
      "10612/10612 [==============================] - 0s 22us/sample - loss: 8898.8445 - mse: 8898.8428 - mae: 23.6155\n",
      "Epoch 37/50\n",
      "10612/10612 [==============================] - 0s 22us/sample - loss: 8874.4368 - mse: 8874.4346 - mae: 23.5764\n",
      "Epoch 38/50\n",
      "10612/10612 [==============================] - 0s 21us/sample - loss: 8847.1065 - mse: 8847.1084 - mae: 23.6283\n",
      "Epoch 39/50\n",
      "10612/10612 [==============================] - 0s 22us/sample - loss: 8822.1573 - mse: 8822.1572 - mae: 23.6165\n",
      "Epoch 40/50\n",
      "10612/10612 [==============================] - 0s 22us/sample - loss: 8801.2752 - mse: 8801.2793 - mae: 23.6140\n",
      "Epoch 41/50\n",
      "10612/10612 [==============================] - 0s 22us/sample - loss: 8769.3635 - mse: 8769.3643 - mae: 23.6615\n",
      "Epoch 42/50\n",
      "10612/10612 [==============================] - 0s 22us/sample - loss: 8753.5153 - mse: 8753.5156 - mae: 23.6713\n",
      "Epoch 43/50\n",
      "10612/10612 [==============================] - 0s 21us/sample - loss: 8724.2090 - mse: 8724.2129 - mae: 23.5908\n",
      "Epoch 44/50\n",
      "10612/10612 [==============================] - 0s 22us/sample - loss: 8697.4528 - mse: 8697.4531 - mae: 23.5072\n",
      "Epoch 45/50\n",
      "10612/10612 [==============================] - 0s 21us/sample - loss: 8666.3509 - mse: 8666.3535 - mae: 23.4471\n",
      "Epoch 46/50\n",
      "10612/10612 [==============================] - 0s 21us/sample - loss: 8639.6927 - mse: 8639.6943 - mae: 23.4828\n",
      "Epoch 47/50\n",
      "10612/10612 [==============================] - 0s 22us/sample - loss: 8609.6245 - mse: 8609.6250 - mae: 23.6087\n",
      "Epoch 48/50\n",
      "10612/10612 [==============================] - 0s 22us/sample - loss: 8570.4535 - mse: 8570.4531 - mae: 23.4522\n",
      "Epoch 49/50\n",
      "10612/10612 [==============================] - 0s 22us/sample - loss: 8538.8157 - mse: 8538.8154 - mae: 23.5506\n",
      "Epoch 50/50\n",
      "10612/10612 [==============================] - 0s 21us/sample - loss: 8504.2265 - mse: 8504.2227 - mae: 23.4675\n"
     ]
    },
    {
     "data": {
      "text/plain": [
       "<tensorflow.python.keras.callbacks.History at 0x150a266d8>"
      ]
     },
     "execution_count": 18,
     "metadata": {},
     "output_type": "execute_result"
    }
   ],
   "source": [
    "model.fit(X_train, y_train, epochs=50, verbose=True)"
   ]
  },
  {
   "cell_type": "code",
   "execution_count": 20,
   "metadata": {},
   "outputs": [
    {
     "name": "stdout",
     "output_type": "stream",
     "text": [
      "1180/1180 [==============================] - 0s 71us/sample - loss: 2070.0638 - mse: 2070.0637 - mae: 24.2283\n"
     ]
    }
   ],
   "source": [
    "scores = model.evaluate(X_test,y_test)"
   ]
  },
  {
   "cell_type": "code",
   "execution_count": 21,
   "metadata": {},
   "outputs": [
    {
     "name": "stdout",
     "output_type": "stream",
     "text": [
      "mse: 207006.3720703125\n"
     ]
    }
   ],
   "source": [
    "print(f\"{model.metrics_names[1]}: {scores[1]*100}\")"
   ]
  },
  {
   "cell_type": "code",
   "execution_count": 22,
   "metadata": {},
   "outputs": [
    {
     "name": "stdout",
     "output_type": "stream",
     "text": [
      "mae: 2422.8349685668945\n"
     ]
    }
   ],
   "source": [
    "print(f\"{model.metrics_names[2]}: {scores[2]*100}\")"
   ]
  },
  {
   "cell_type": "code",
   "execution_count": 27,
   "metadata": {},
   "outputs": [],
   "source": [
    "from numpy import array"
   ]
  },
  {
   "cell_type": "code",
   "execution_count": 30,
   "metadata": {},
   "outputs": [],
   "source": [
    "Xnew = array([[0,2,60,4,52.534537,13.402557,3,1,0,1,60.0,28.0,30.0,200.0,1,0]])"
   ]
  },
  {
   "cell_type": "code",
   "execution_count": 31,
   "metadata": {},
   "outputs": [],
   "source": [
    "ynew= model.predict(Xnew)"
   ]
  },
  {
   "cell_type": "code",
   "execution_count": 32,
   "metadata": {},
   "outputs": [
    {
     "name": "stdout",
     "output_type": "stream",
     "text": [
      "X=[  0.         2.        60.         4.        52.534537  13.402557\n",
      "   3.         1.         0.         1.        60.        28.\n",
      "  30.       200.         1.         0.      ], Predicted=[6973.257]\n"
     ]
    }
   ],
   "source": [
    "print(\"X=%s, Predicted=%s\" % (Xnew[0],ynew[0]))"
   ]
  },
  {
   "cell_type": "code",
   "execution_count": 33,
   "metadata": {},
   "outputs": [
    {
     "name": "stdout",
     "output_type": "stream",
     "text": [
      "[[6973.257]]\n"
     ]
    }
   ],
   "source": [
    "print(ynew)"
   ]
  },
  {
   "cell_type": "code",
   "execution_count": null,
   "metadata": {},
   "outputs": [],
   "source": []
  }
 ],
 "metadata": {
  "kernelspec": {
   "display_name": "U4-S1-NLP (Python3)",
   "language": "python",
   "name": "u4-s1-nlp"
  },
  "language_info": {
   "codemirror_mode": {
    "name": "ipython",
    "version": 3
   },
   "file_extension": ".py",
   "mimetype": "text/x-python",
   "name": "python",
   "nbconvert_exporter": "python",
   "pygments_lexer": "ipython3",
   "version": "3.7.0"
  }
 },
 "nbformat": 4,
 "nbformat_minor": 4
}
